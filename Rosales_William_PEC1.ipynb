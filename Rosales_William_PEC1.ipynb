{
  "cells": [
    {
      "cell_type": "markdown",
      "metadata": {
        "id": "view-in-github",
        "colab_type": "text"
      },
      "source": [
        "<a href=\"https://colab.research.google.com/github/datawilly/aprendizaje-por-refuerzo/blob/main/Rosales_William_PEC1.ipynb\" target=\"_parent\"><img src=\"https://colab.research.google.com/assets/colab-badge.svg\" alt=\"Open In Colab\"/></a>"
      ]
    },
    {
      "cell_type": "markdown",
      "id": "488d5e7f-fbd9-4397-9716-6b2c6f0bd7d5",
      "metadata": {
        "id": "488d5e7f-fbd9-4397-9716-6b2c6f0bd7d5"
      },
      "source": [
        "# Ejercicio de Iteración de Valor"
      ]
    },
    {
      "cell_type": "markdown",
      "id": "523867a0-7ad2-45b5-be87-93f668085780",
      "metadata": {
        "id": "523867a0-7ad2-45b5-be87-93f668085780"
      },
      "source": [
        "## Instalar los requerimientos"
      ]
    },
    {
      "cell_type": "code",
      "execution_count": null,
      "id": "3728e955-5221-4825-87d3-14b1778d0cf8",
      "metadata": {
        "id": "3728e955-5221-4825-87d3-14b1778d0cf8",
        "outputId": "7aa34fc0-436e-4327-9f08-a9e938c8130c"
      },
      "outputs": [
        {
          "name": "stdout",
          "output_type": "stream",
          "text": [
            "Requirement already satisfied: gymnasium in c:\\users\\william\\anaconda3\\lib\\site-packages (from -r requirements.txt (line 1)) (0.29.1)\n",
            "Collecting torch\n",
            "  Using cached torch-2.3.0-cp39-cp39-win_amd64.whl (159.7 MB)\n",
            "Collecting torchvision\n",
            "  Using cached torchvision-0.18.0-cp39-cp39-win_amd64.whl (1.2 MB)\n",
            "Collecting torchaudio\n",
            "  Using cached torchaudio-2.3.0-cp39-cp39-win_amd64.whl (2.4 MB)\n",
            "Requirement already satisfied: jupyterlab in c:\\users\\william\\anaconda3\\lib\\site-packages (from -r requirements.txt (line 5)) (3.3.2)\n",
            "Requirement already satisfied: matplotlib in c:\\users\\william\\anaconda3\\lib\\site-packages (from -r requirements.txt (line 6)) (3.5.1)\n",
            "Requirement already satisfied: pandas in c:\\users\\william\\anaconda3\\lib\\site-packages (from -r requirements.txt (line 7)) (1.4.2)\n",
            "Requirement already satisfied: pydantic in c:\\users\\william\\anaconda3\\lib\\site-packages (from -r requirements.txt (line 8)) (1.10.2)\n",
            "Requirement already satisfied: typing-extensions>=4.3.0 in c:\\users\\william\\anaconda3\\lib\\site-packages (from gymnasium->-r requirements.txt (line 1)) (4.11.0)\n",
            "Requirement already satisfied: cloudpickle>=1.2.0 in c:\\users\\william\\anaconda3\\lib\\site-packages (from gymnasium->-r requirements.txt (line 1)) (2.0.0)\n",
            "Requirement already satisfied: farama-notifications>=0.0.1 in c:\\users\\william\\anaconda3\\lib\\site-packages (from gymnasium->-r requirements.txt (line 1)) (0.0.4)\n",
            "Requirement already satisfied: numpy>=1.21.0 in c:\\users\\william\\anaconda3\\lib\\site-packages (from gymnasium->-r requirements.txt (line 1)) (1.26.4)\n",
            "Requirement already satisfied: importlib-metadata>=4.8.0 in c:\\users\\william\\anaconda3\\lib\\site-packages (from gymnasium->-r requirements.txt (line 1)) (4.11.3)\n",
            "Requirement already satisfied: networkx in c:\\users\\william\\anaconda3\\lib\\site-packages (from torch->-r requirements.txt (line 2)) (2.7.1)\n",
            "Collecting mkl<=2021.4.0,>=2021.1.1\n",
            "  Using cached mkl-2021.4.0-py2.py3-none-win_amd64.whl (228.5 MB)\n",
            "Requirement already satisfied: jinja2 in c:\\users\\william\\anaconda3\\lib\\site-packages (from torch->-r requirements.txt (line 2)) (2.11.3)\n",
            "Requirement already satisfied: fsspec in c:\\users\\william\\anaconda3\\lib\\site-packages (from torch->-r requirements.txt (line 2)) (2022.2.0)\n",
            "Requirement already satisfied: filelock in c:\\users\\william\\anaconda3\\lib\\site-packages (from torch->-r requirements.txt (line 2)) (3.6.0)\n",
            "Requirement already satisfied: sympy in c:\\users\\william\\anaconda3\\lib\\site-packages (from torch->-r requirements.txt (line 2)) (1.10.1)\n",
            "Requirement already satisfied: pillow!=8.3.*,>=5.3.0 in c:\\users\\william\\anaconda3\\lib\\site-packages (from torchvision->-r requirements.txt (line 3)) (9.0.1)\n",
            "Requirement already satisfied: packaging in c:\\users\\william\\anaconda3\\lib\\site-packages (from jupyterlab->-r requirements.txt (line 5)) (21.3)\n",
            "Requirement already satisfied: jupyter-core in c:\\users\\william\\anaconda3\\lib\\site-packages (from jupyterlab->-r requirements.txt (line 5)) (4.9.2)\n",
            "Requirement already satisfied: jupyterlab-server~=2.10 in c:\\users\\william\\anaconda3\\lib\\site-packages (from jupyterlab->-r requirements.txt (line 5)) (2.10.3)\n",
            "Requirement already satisfied: ipython in c:\\users\\william\\anaconda3\\lib\\site-packages (from jupyterlab->-r requirements.txt (line 5)) (8.2.0)\n",
            "Requirement already satisfied: tornado>=6.1.0 in c:\\users\\william\\anaconda3\\lib\\site-packages (from jupyterlab->-r requirements.txt (line 5)) (6.1)\n",
            "Requirement already satisfied: nbclassic~=0.2 in c:\\users\\william\\anaconda3\\lib\\site-packages (from jupyterlab->-r requirements.txt (line 5)) (0.3.5)\n",
            "Requirement already satisfied: jupyter-server~=1.4 in c:\\users\\william\\anaconda3\\lib\\site-packages (from jupyterlab->-r requirements.txt (line 5)) (1.13.5)\n",
            "Requirement already satisfied: cycler>=0.10 in c:\\users\\william\\anaconda3\\lib\\site-packages (from matplotlib->-r requirements.txt (line 6)) (0.11.0)\n",
            "Requirement already satisfied: kiwisolver>=1.0.1 in c:\\users\\william\\anaconda3\\lib\\site-packages (from matplotlib->-r requirements.txt (line 6)) (1.3.2)\n",
            "Requirement already satisfied: fonttools>=4.22.0 in c:\\users\\william\\anaconda3\\lib\\site-packages (from matplotlib->-r requirements.txt (line 6)) (4.25.0)\n",
            "Requirement already satisfied: python-dateutil>=2.7 in c:\\users\\william\\anaconda3\\lib\\site-packages (from matplotlib->-r requirements.txt (line 6)) (2.8.2)\n",
            "Requirement already satisfied: pyparsing>=2.2.1 in c:\\users\\william\\anaconda3\\lib\\site-packages (from matplotlib->-r requirements.txt (line 6)) (3.0.4)\n",
            "Requirement already satisfied: pytz>=2020.1 in c:\\users\\william\\anaconda3\\lib\\site-packages (from pandas->-r requirements.txt (line 7)) (2021.3)\n",
            "Requirement already satisfied: zipp>=0.5 in c:\\users\\william\\anaconda3\\lib\\site-packages (from importlib-metadata>=4.8.0->gymnasium->-r requirements.txt (line 1)) (3.7.0)\n",
            "Requirement already satisfied: MarkupSafe>=0.23 in c:\\users\\william\\anaconda3\\lib\\site-packages (from jinja2->torch->-r requirements.txt (line 2)) (2.0.1)\n",
            "Requirement already satisfied: pywinpty<2 in c:\\users\\william\\anaconda3\\lib\\site-packages (from jupyter-server~=1.4->jupyterlab->-r requirements.txt (line 5)) (1.1.6)\n",
            "Requirement already satisfied: traitlets>=5 in c:\\users\\william\\anaconda3\\lib\\site-packages (from jupyter-server~=1.4->jupyterlab->-r requirements.txt (line 5)) (5.1.1)\n",
            "Requirement already satisfied: Send2Trash in c:\\users\\william\\anaconda3\\lib\\site-packages (from jupyter-server~=1.4->jupyterlab->-r requirements.txt (line 5)) (1.8.0)\n",
            "Requirement already satisfied: websocket-client in c:\\users\\william\\anaconda3\\lib\\site-packages (from jupyter-server~=1.4->jupyterlab->-r requirements.txt (line 5)) (0.58.0)\n",
            "Requirement already satisfied: argon2-cffi in c:\\users\\william\\anaconda3\\lib\\site-packages (from jupyter-server~=1.4->jupyterlab->-r requirements.txt (line 5)) (21.3.0)\n",
            "Requirement already satisfied: ipython-genutils in c:\\users\\william\\anaconda3\\lib\\site-packages (from jupyter-server~=1.4->jupyterlab->-r requirements.txt (line 5)) (0.2.0)\n",
            "Requirement already satisfied: nbconvert in c:\\users\\william\\anaconda3\\lib\\site-packages (from jupyter-server~=1.4->jupyterlab->-r requirements.txt (line 5)) (6.4.4)\n",
            "Requirement already satisfied: pyzmq>=17 in c:\\users\\william\\anaconda3\\lib\\site-packages (from jupyter-server~=1.4->jupyterlab->-r requirements.txt (line 5)) (22.3.0)\n",
            "Requirement already satisfied: terminado>=0.8.3 in c:\\users\\william\\anaconda3\\lib\\site-packages (from jupyter-server~=1.4->jupyterlab->-r requirements.txt (line 5)) (0.13.1)\n",
            "Requirement already satisfied: anyio<4,>=3.1.0 in c:\\users\\william\\anaconda3\\lib\\site-packages (from jupyter-server~=1.4->jupyterlab->-r requirements.txt (line 5)) (3.5.0)\n",
            "Requirement already satisfied: nbformat in c:\\users\\william\\anaconda3\\lib\\site-packages (from jupyter-server~=1.4->jupyterlab->-r requirements.txt (line 5)) (5.3.0)\n",
            "Requirement already satisfied: prometheus-client in c:\\users\\william\\anaconda3\\lib\\site-packages (from jupyter-server~=1.4->jupyterlab->-r requirements.txt (line 5)) (0.13.1)\n",
            "Requirement already satisfied: jupyter-client>=6.1.1 in c:\\users\\william\\anaconda3\\lib\\site-packages (from jupyter-server~=1.4->jupyterlab->-r requirements.txt (line 5)) (6.1.12)\n",
            "Requirement already satisfied: idna>=2.8 in c:\\users\\william\\anaconda3\\lib\\site-packages (from anyio<4,>=3.1.0->jupyter-server~=1.4->jupyterlab->-r requirements.txt (line 5)) (3.3)\n",
            "Requirement already satisfied: sniffio>=1.1 in c:\\users\\william\\anaconda3\\lib\\site-packages (from anyio<4,>=3.1.0->jupyter-server~=1.4->jupyterlab->-r requirements.txt (line 5)) (1.2.0)\n",
            "Requirement already satisfied: pywin32>=1.0 in c:\\users\\william\\anaconda3\\lib\\site-packages (from jupyter-core->jupyterlab->-r requirements.txt (line 5)) (302)\n",
            "Requirement already satisfied: json5 in c:\\users\\william\\anaconda3\\lib\\site-packages (from jupyterlab-server~=2.10->jupyterlab->-r requirements.txt (line 5)) (0.9.6)\n",
            "Requirement already satisfied: jsonschema>=3.0.1 in c:\\users\\william\\anaconda3\\lib\\site-packages (from jupyterlab-server~=2.10->jupyterlab->-r requirements.txt (line 5)) (4.4.0)\n",
            "Requirement already satisfied: requests in c:\\users\\william\\anaconda3\\lib\\site-packages (from jupyterlab-server~=2.10->jupyterlab->-r requirements.txt (line 5)) (2.27.1)\n",
            "Requirement already satisfied: entrypoints>=0.2.2 in c:\\users\\william\\anaconda3\\lib\\site-packages (from jupyterlab-server~=2.10->jupyterlab->-r requirements.txt (line 5)) (0.4)\n",
            "Requirement already satisfied: babel in c:\\users\\william\\anaconda3\\lib\\site-packages (from jupyterlab-server~=2.10->jupyterlab->-r requirements.txt (line 5)) (2.9.1)\n",
            "Requirement already satisfied: attrs>=17.4.0 in c:\\users\\william\\anaconda3\\lib\\site-packages (from jsonschema>=3.0.1->jupyterlab-server~=2.10->jupyterlab->-r requirements.txt (line 5)) (21.4.0)\n",
            "Requirement already satisfied: pyrsistent!=0.17.0,!=0.17.1,!=0.17.2,>=0.14.0 in c:\\users\\william\\anaconda3\\lib\\site-packages (from jsonschema>=3.0.1->jupyterlab-server~=2.10->jupyterlab->-r requirements.txt (line 5)) (0.18.0)\n",
            "Collecting intel-openmp==2021.*\n",
            "  Using cached intel_openmp-2021.4.0-py2.py3-none-win_amd64.whl (3.5 MB)\n",
            "Collecting tbb==2021.*\n",
            "  Using cached tbb-2021.12.0-py3-none-win_amd64.whl (286 kB)\n",
            "Requirement already satisfied: notebook<7 in c:\\users\\william\\anaconda3\\lib\\site-packages (from nbclassic~=0.2->jupyterlab->-r requirements.txt (line 5)) (6.4.8)\n",
            "Requirement already satisfied: nest-asyncio>=1.5 in c:\\users\\william\\anaconda3\\lib\\site-packages (from notebook<7->nbclassic~=0.2->jupyterlab->-r requirements.txt (line 5)) (1.5.5)\n",
            "Requirement already satisfied: ipykernel in c:\\users\\william\\anaconda3\\lib\\site-packages (from notebook<7->nbclassic~=0.2->jupyterlab->-r requirements.txt (line 5)) (6.9.1)\n",
            "Requirement already satisfied: six>=1.5 in c:\\users\\william\\anaconda3\\lib\\site-packages (from python-dateutil>=2.7->matplotlib->-r requirements.txt (line 6)) (1.16.0)\n",
            "Requirement already satisfied: argon2-cffi-bindings in c:\\users\\william\\anaconda3\\lib\\site-packages (from argon2-cffi->jupyter-server~=1.4->jupyterlab->-r requirements.txt (line 5)) (21.2.0)\n",
            "Requirement already satisfied: cffi>=1.0.1 in c:\\users\\william\\anaconda3\\lib\\site-packages (from argon2-cffi-bindings->argon2-cffi->jupyter-server~=1.4->jupyterlab->-r requirements.txt (line 5)) (1.15.0)\n",
            "Requirement already satisfied: pycparser in c:\\users\\william\\anaconda3\\lib\\site-packages (from cffi>=1.0.1->argon2-cffi-bindings->argon2-cffi->jupyter-server~=1.4->jupyterlab->-r requirements.txt (line 5)) (2.21)\n",
            "Requirement already satisfied: matplotlib-inline<0.2.0,>=0.1.0 in c:\\users\\william\\anaconda3\\lib\\site-packages (from ipykernel->notebook<7->nbclassic~=0.2->jupyterlab->-r requirements.txt (line 5)) (0.1.2)\n",
            "Requirement already satisfied: debugpy<2.0,>=1.0.0 in c:\\users\\william\\anaconda3\\lib\\site-packages (from ipykernel->notebook<7->nbclassic~=0.2->jupyterlab->-r requirements.txt (line 5)) (1.5.1)\n",
            "Requirement already satisfied: colorama in c:\\users\\william\\anaconda3\\lib\\site-packages (from ipython->jupyterlab->-r requirements.txt (line 5)) (0.4.4)\n",
            "Requirement already satisfied: pickleshare in c:\\users\\william\\anaconda3\\lib\\site-packages (from ipython->jupyterlab->-r requirements.txt (line 5)) (0.7.5)\n"
          ]
        },
        {
          "name": "stderr",
          "output_type": "stream",
          "text": [
            "ERROR: Cannot uninstall 'TBB'. It is a distutils installed project and thus we cannot accurately determine which files belong to it which would lead to only a partial uninstall.\n"
          ]
        },
        {
          "name": "stdout",
          "output_type": "stream",
          "text": [
            "Requirement already satisfied: setuptools>=18.5 in c:\\users\\william\\anaconda3\\lib\\site-packages (from ipython->jupyterlab->-r requirements.txt (line 5)) (61.2.0)\n",
            "Requirement already satisfied: decorator in c:\\users\\william\\anaconda3\\lib\\site-packages (from ipython->jupyterlab->-r requirements.txt (line 5)) (5.1.1)\n",
            "Requirement already satisfied: jedi>=0.16 in c:\\users\\william\\anaconda3\\lib\\site-packages (from ipython->jupyterlab->-r requirements.txt (line 5)) (0.18.1)\n",
            "Requirement already satisfied: pygments>=2.4.0 in c:\\users\\william\\anaconda3\\lib\\site-packages (from ipython->jupyterlab->-r requirements.txt (line 5)) (2.11.2)\n",
            "Requirement already satisfied: backcall in c:\\users\\william\\anaconda3\\lib\\site-packages (from ipython->jupyterlab->-r requirements.txt (line 5)) (0.2.0)\n",
            "Requirement already satisfied: stack-data in c:\\users\\william\\anaconda3\\lib\\site-packages (from ipython->jupyterlab->-r requirements.txt (line 5)) (0.2.0)\n",
            "Requirement already satisfied: prompt-toolkit!=3.0.0,!=3.0.1,<3.1.0,>=2.0.0 in c:\\users\\william\\anaconda3\\lib\\site-packages (from ipython->jupyterlab->-r requirements.txt (line 5)) (3.0.20)\n",
            "Requirement already satisfied: parso<0.9.0,>=0.8.0 in c:\\users\\william\\anaconda3\\lib\\site-packages (from jedi>=0.16->ipython->jupyterlab->-r requirements.txt (line 5)) (0.8.3)\n",
            "Requirement already satisfied: wcwidth in c:\\users\\william\\anaconda3\\lib\\site-packages (from prompt-toolkit!=3.0.0,!=3.0.1,<3.1.0,>=2.0.0->ipython->jupyterlab->-r requirements.txt (line 5)) (0.2.5)\n",
            "Requirement already satisfied: defusedxml in c:\\users\\william\\anaconda3\\lib\\site-packages (from nbconvert->jupyter-server~=1.4->jupyterlab->-r requirements.txt (line 5)) (0.7.1)\n",
            "Requirement already satisfied: beautifulsoup4 in c:\\users\\william\\anaconda3\\lib\\site-packages (from nbconvert->jupyter-server~=1.4->jupyterlab->-r requirements.txt (line 5)) (4.11.1)\n",
            "Requirement already satisfied: mistune<2,>=0.8.1 in c:\\users\\william\\anaconda3\\lib\\site-packages (from nbconvert->jupyter-server~=1.4->jupyterlab->-r requirements.txt (line 5)) (0.8.4)\n",
            "Requirement already satisfied: pandocfilters>=1.4.1 in c:\\users\\william\\anaconda3\\lib\\site-packages (from nbconvert->jupyter-server~=1.4->jupyterlab->-r requirements.txt (line 5)) (1.5.0)\n",
            "Requirement already satisfied: bleach in c:\\users\\william\\anaconda3\\lib\\site-packages (from nbconvert->jupyter-server~=1.4->jupyterlab->-r requirements.txt (line 5)) (4.1.0)\n",
            "Requirement already satisfied: testpath in c:\\users\\william\\anaconda3\\lib\\site-packages (from nbconvert->jupyter-server~=1.4->jupyterlab->-r requirements.txt (line 5)) (0.5.0)\n",
            "Requirement already satisfied: jupyterlab-pygments in c:\\users\\william\\anaconda3\\lib\\site-packages (from nbconvert->jupyter-server~=1.4->jupyterlab->-r requirements.txt (line 5)) (0.1.2)\n",
            "Requirement already satisfied: nbclient<0.6.0,>=0.5.0 in c:\\users\\william\\anaconda3\\lib\\site-packages (from nbconvert->jupyter-server~=1.4->jupyterlab->-r requirements.txt (line 5)) (0.5.13)\n",
            "Requirement already satisfied: fastjsonschema in c:\\users\\william\\anaconda3\\lib\\site-packages (from nbformat->jupyter-server~=1.4->jupyterlab->-r requirements.txt (line 5)) (2.15.1)\n",
            "Requirement already satisfied: soupsieve>1.2 in c:\\users\\william\\anaconda3\\lib\\site-packages (from beautifulsoup4->nbconvert->jupyter-server~=1.4->jupyterlab->-r requirements.txt (line 5)) (2.3.1)\n",
            "Requirement already satisfied: webencodings in c:\\users\\william\\anaconda3\\lib\\site-packages (from bleach->nbconvert->jupyter-server~=1.4->jupyterlab->-r requirements.txt (line 5)) (0.5.1)\n",
            "Requirement already satisfied: urllib3<1.27,>=1.21.1 in c:\\users\\william\\anaconda3\\lib\\site-packages (from requests->jupyterlab-server~=2.10->jupyterlab->-r requirements.txt (line 5)) (1.26.9)\n",
            "Requirement already satisfied: certifi>=2017.4.17 in c:\\users\\william\\anaconda3\\lib\\site-packages (from requests->jupyterlab-server~=2.10->jupyterlab->-r requirements.txt (line 5)) (2021.10.8)\n",
            "Requirement already satisfied: charset-normalizer~=2.0.0 in c:\\users\\william\\anaconda3\\lib\\site-packages (from requests->jupyterlab-server~=2.10->jupyterlab->-r requirements.txt (line 5)) (2.0.4)\n",
            "Requirement already satisfied: executing in c:\\users\\william\\anaconda3\\lib\\site-packages (from stack-data->ipython->jupyterlab->-r requirements.txt (line 5)) (0.8.3)\n",
            "Requirement already satisfied: asttokens in c:\\users\\william\\anaconda3\\lib\\site-packages (from stack-data->ipython->jupyterlab->-r requirements.txt (line 5)) (2.0.5)\n",
            "Requirement already satisfied: pure-eval in c:\\users\\william\\anaconda3\\lib\\site-packages (from stack-data->ipython->jupyterlab->-r requirements.txt (line 5)) (0.2.2)\n",
            "Requirement already satisfied: mpmath>=0.19 in c:\\users\\william\\anaconda3\\lib\\site-packages (from sympy->torch->-r requirements.txt (line 2)) (1.2.1)\n",
            "Installing collected packages: tbb, intel-openmp, mkl, torch, torchvision, torchaudio\n",
            "  Attempting uninstall: tbb\n",
            "    Found existing installation: TBB 0.2\n"
          ]
        }
      ],
      "source": [
        "!pip install -r requirements.txt"
      ]
    },
    {
      "cell_type": "markdown",
      "id": "8461784e-2961-401a-8755-05c541e97b8b",
      "metadata": {
        "id": "8461784e-2961-401a-8755-05c541e97b8b"
      },
      "source": [
        "## Importar dependencias"
      ]
    },
    {
      "cell_type": "code",
      "execution_count": null,
      "id": "dc457908-12f0-4480-9efd-4f6e95646a94",
      "metadata": {
        "scrolled": true,
        "tags": [],
        "id": "dc457908-12f0-4480-9efd-4f6e95646a94"
      },
      "outputs": [],
      "source": [
        "import gymnasium as gym\n",
        "import numpy as np\n",
        "from plot_utils import plot_values"
      ]
    },
    {
      "cell_type": "markdown",
      "id": "f9aa42ab-60c4-447e-90ba-f8f30c114480",
      "metadata": {
        "id": "f9aa42ab-60c4-447e-90ba-f8f30c114480"
      },
      "source": [
        "## Para hacer: Arregla el código para desarrollar tu algoritmo de Iteración de Valor"
      ]
    },
    {
      "cell_type": "code",
      "execution_count": null,
      "id": "cd952a20",
      "metadata": {
        "id": "cd952a20"
      },
      "outputs": [],
      "source": [
        "class ValueIteration:\n",
        "    #En el constructor vamos a referenciar el entorno de Gym, el valor de descuento Gamma, tambien el umbral\n",
        "    #de convergencia, es importante establecer explicitamente las recompensas del juego para los estados\n",
        "    #esto sirve para que nuestro agente pueda hacer los cálculos y por último la funcion de valor inicializada en cero\n",
        "    #y que se actualizará conforme nuestro agente juegue\n",
        "    def __init__(self, env: gym.Env, gamma: float, epsilon: float):\n",
        "        self.env = env\n",
        "        self.gamma = gamma\n",
        "        self.epsilon = epsilon\n",
        "        self.reward = {0: 0.0, 1: 0.0, 2: 0.0, 3: 0.0, 4: 0.0, 5: 0.0, 6: 0.0, 7: 0.0, 8: 0.0, 9: 0.0, 10: 0.0, 11: 0.0, 12: 0.0, 13: 0.0, 14: 0.0, 15: 1.0}\n",
        "        self.V = np.zeros(env.observation_space.n)\n",
        "\n",
        "    #Iniciamos con el método train, donde vamos a entrenar al agente mediante la iteracion de valor y su funcion es\n",
        "    #correr el bucle while hasta que el valor de delta, que corresponde a los cambios en la funcion de valor,\n",
        "    #sea mas pequeño que epsilon, valor que nosotros establecemos y cuando esta condicion se de, se entenderá como\n",
        "    #alcanzada la convergencia\n",
        "    def train(self) -> tuple[np.ndarray, np.ndarray]:\n",
        "        while True:\n",
        "            #Inicializamos la variable delta que va a guardar los valores del cambio de la funcion de valor\n",
        "            delta = 0\n",
        "            #Vamos a recorrer todos los estados en el entorno\n",
        "            for state in range(self.env.observation_space.n):\n",
        "                #Guardamos el estado en el que nos encontramos\n",
        "                v = self.V[state]\n",
        "                #Llamamos al método get_q_from_v que se encuentra declarado mas abajo el cual nos va a dar los valores Q\n",
        "                #para el estado actual que está recorriendo el bucle\n",
        "                action_values = self.get_q_from_v(state)\n",
        "                #Actualizamos la función de valor v para el estado actual con el valor Q máximo\n",
        "                self.V[state] = max(action_values)\n",
        "                #Reasignamos a nuestra variable delta el cambio máximo del valor para cualquier estado del juego\n",
        "                delta = max(delta, abs(v - self.V[state]))\n",
        "\n",
        "            #Establecemos una nueva condicion, la cual verifica que nuestro delta es menor que el epsilon declarado\n",
        "            #mas abajo, de ser así rompe el bucle while ya que alcanzaríamos la convergencia,\n",
        "            #si esta condicion no se cumple volvemos a iniciar otra iteracion\n",
        "            if delta < self.epsilon:\n",
        "                break\n",
        "\n",
        "\n",
        "        #Aquí vamos a guardar la política que hemos encontrado a través del bucle en base a la funcion de valor llamando\n",
        "        #a la funcion policy_improvement y pasandole el resultado de la funcion de valor obtenida\n",
        "        policy = self.policy_improvement(self.V)\n",
        "        #Devolvemos la política y la funcion de valor\n",
        "        return policy, self.V\n",
        "\n",
        "    #Seguimos con el método de mejora de la política, aquí vamos a mejorar la política en funcion de las Q\n",
        "    #obtenidas a travpes del método get_q_from_v para cada estado y acción, de los cuales nos quedamos con el\n",
        "    #valor mas alto para establecer la nueva política mejorada\n",
        "    def policy_improvement(self, V: np.ndarray) -> np.ndarray:\n",
        "        #Inicializamos la política en ceros\n",
        "        policy = np.zeros(self.env.observation_space.n, dtype=int)\n",
        "        #Iniciamos un bucle for que va a iterar en cada estado del entorno\n",
        "        for state in range(self.env.observation_space.n):\n",
        "            #Vamos a obtener la Q para cada estado y la guardamos en una nueva variable\n",
        "            action_values = self.get_q_from_v(state)\n",
        "            #Obtenemos el mayor valor para cada estado de acuerdo a las acciones las cuales guardamos en la linea anterior\n",
        "            #y la guardamos en la política mejorada\n",
        "            policy[state] = np.argmax(action_values)\n",
        "        #Devolvemos la política\n",
        "        return policy\n",
        "\n",
        "    #Inicializamos la funcion get_q_from_v la cual obtiene los valores iterando en cada acción posible\n",
        "    def get_q_from_v(self, state: int) -> np.ndarray:\n",
        "        #Inicializamos los valores de Q en cero\n",
        "        Q = np.zeros(self.env.action_space.n)\n",
        "        #Creamos un bucle for el cual va a recorrer las acciones para obtener Q\n",
        "        for action in range(self.env.action_space.n):\n",
        "            #Vamos a obtener para cada acción la probabilidad de cada una, el estado siguiente al que llegaríamos\n",
        "            #la recompensa y un valor adicional el cual vamos a omitir, y este nuevo bucle for va a iterar a lo\n",
        "            #largo de cada pareja de estado y acción\n",
        "            for prob, next_state, reward, _ in self.env.P[state][action]:\n",
        "                #Para cada una de las acciones vamos a calcular la Q mediante la fórmula que multiplica la probabilidad\n",
        "                #por la suma de la recompensa mas el producto del valor de descuento y la funcion de valor en el siguiente\n",
        "                #estado\n",
        "                Q[action] += prob * (self.reward[state] + self.gamma * self.V[next_state])\n",
        "        #Devolvemos el valor de Q\n",
        "        return Q\n",
        "\n",
        "    def play(self, policy: np.ndarray, episodes=1) -> list[float]:\n",
        "        total_rewards = []\n",
        "        for _ in range(episodes):\n",
        "            total_reward = 0.0\n",
        "            state, _ = self.env.reset()\n",
        "            while True:\n",
        "                action = policy[state]\n",
        "                state, reward, done, _, _ = self.env.step(action)\n",
        "                total_reward += reward\n",
        "                if done:\n",
        "                    break\n",
        "            total_rewards.append(total_reward)\n",
        "        return total_rewards\n"
      ]
    },
    {
      "cell_type": "markdown",
      "id": "12559901-f121-4144-89d6-e28cf49f844f",
      "metadata": {
        "id": "12559901-f121-4144-89d6-e28cf49f844f"
      },
      "source": [
        "## Observa a tu agente jugar"
      ]
    },
    {
      "cell_type": "code",
      "execution_count": null,
      "id": "3db18b77-42d5-4da1-a9b9-a2f20a5ff263",
      "metadata": {
        "scrolled": false,
        "tags": [],
        "id": "3db18b77-42d5-4da1-a9b9-a2f20a5ff263",
        "outputId": "be252a52-60b1-4180-b415-8b4af7b7f101"
      },
      "outputs": [
        {
          "name": "stderr",
          "output_type": "stream",
          "text": [
            "C:\\Users\\William\\anaconda3\\lib\\site-packages\\gymnasium\\core.py:311: UserWarning: \u001b[33mWARN: env.P to get variables from other wrappers is deprecated and will be removed in v1.0, to get this variable you can do `env.unwrapped.P` for environment variables or `env.get_wrapper_attr('P')` that will search the reminding wrappers.\u001b[0m\n",
            "  logger.warn(\n"
          ]
        },
        {
          "data": {
            "image/png": "[encoded data removed]",
            "text/plain": [
              "<Figure size 230.4x230.4 with 1 Axes>"
            ]
          },
          "metadata": {},
          "output_type": "display_data"
        },
        {
          "name": "stdout",
          "output_type": "stream",
          "text": [
            "Política óptima:\n",
            "[0 3 0 3 0 0 0 0 3 1 0 0 0 2 1 0]\n",
            "Recompensa final: 9.999999999142268\n"
          ]
        }
      ],
      "source": [
        "#Se establece el tamaño del entorno del juego, en este caso 4\n",
        "size = 4\n",
        "#Declaramos el entorno de juego\n",
        "env = gym.make(\n",
        "    \"FrozenLake-v1\",\n",
        "    desc=None,\n",
        "    map_name=f\"{size}x{size}\",\n",
        "    is_slippery=True,\n",
        "    render_mode=\"human\",\n",
        ")\n",
        "#Asignamos el valor de descuento\n",
        "gamma = 0.9\n",
        "pi_error = 1e-10\n",
        "#Asignamos el valor que nos va a ayudar para establecer la convergencia\n",
        "epsilon = 1e-10\n",
        "#Iniciamos la iteracion de valor\n",
        "value_iteration = ValueIteration(env, gamma, pi_error)\n",
        "policy, V = value_iteration.train()\n",
        "value_iteration.play(policy)\n",
        "env.close()\n",
        "#Mostramos cada uno de los resultados de la funcion de valor\n",
        "plot_values(V, size)\n",
        "#Veamos la política óptima\n",
        "print(\"Política óptima:\")\n",
        "print(policy)\n",
        "\n",
        "#Calculamos la recompensa esperada para el juego\n",
        "expected_reward = V[15]\n",
        "print(\"Recompensa final:\", expected_reward)"
      ]
    },
    {
      "cell_type": "markdown",
      "id": "4fa9dcf0-0173-48cc-8f8e-77dc278f539b",
      "metadata": {
        "id": "4fa9dcf0-0173-48cc-8f8e-77dc278f539b"
      },
      "source": [
        "## Verifica que tu solución sea correcta\n"
      ]
    },
    {
      "cell_type": "code",
      "execution_count": null,
      "id": "f273d8d4",
      "metadata": {
        "id": "f273d8d4"
      },
      "outputs": [],
      "source": [
        "#Vamos a declarar la politica optima encontrada\n",
        "optimal_policy = [0, 3, 0, 3, 0, 0, 0, 0, 3, 1, 0, 0, 0, 2, 1, 0]\n",
        "\n",
        "#nuevamente declaramos el entorno\n",
        "size = 4\n",
        "env = gym.make(\n",
        "    \"FrozenLake-v1\",\n",
        "    desc=None,\n",
        "    map_name=f\"{size}x{size}\",\n",
        "    is_slippery=True,\n",
        "    render_mode=\"human\",\n",
        ")\n",
        "\n",
        "#Le pasamos la política al entorno\n",
        "env.env.P = np.array(optimal_policy)\n",
        "\n",
        "#Ejecutamos para ver la política en accíon\n",
        "state = env.reset()[0]\n",
        "done = False\n",
        "while not done:\n",
        "    env.render()\n",
        "    action = optimal_policy[state]\n",
        "    state, _, done, _ = env.step(action)[:4]\n",
        "\n",
        "# Cierra la ventana de renderizado al finalizar\n",
        "env.close()"
      ]
    }
  ],
  "metadata": {
    "kernelspec": {
      "display_name": "Python 3 (ipykernel)",
      "language": "python",
      "name": "python3"
    },
    "language_info": {
      "codemirror_mode": {
        "name": "ipython",
        "version": 3
      },
      "file_extension": ".py",
      "mimetype": "text/x-python",
      "name": "python",
      "nbconvert_exporter": "python",
      "pygments_lexer": "ipython3",
      "version": "3.9.12"
    },
    "colab": {
      "provenance": [],
      "include_colab_link": true
    }
  },
  "nbformat": 4,
  "nbformat_minor": 5
}